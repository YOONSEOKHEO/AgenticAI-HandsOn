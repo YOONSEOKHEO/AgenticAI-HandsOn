{
 "cells": [
  {
   "cell_type": "markdown",
   "id": "c1741c6d-8d18-4de5-9acf-3d913f402e18",
   "metadata": {},
   "source": [
    "# Session 6: AI API 호출(Inference) 및 프로젝트 완성\n",
    "\n",
    "### ■ Session Objective\n",
    "-   Session 5에서 배포한 `loan-approval-service` Endpoint에 **Vertex AI SDK**를 사용하여 실시간 예측 요청을 전송합니다.\n",
    "-   가상의 대출 신청자 데이터를 API가 요구하는 형식(JSON)으b로 변환하고, API의 응답(승인/거절)을 확인하여 1차시 프로젝트를 완성합니다.\n",
    "-   실습 완료 후, **엔드포인트 배포를 취소(Undeploy)하여 불필요한 비용 발생을 중단**합니다.\n",
    "\n",
    "---\n",
    "\n",
    "### ■ Key Concepts\n",
    "\n",
    "#### 1️⃣ Vertex AI SDK (Software Development Kit)\n",
    "- Python 코드에서 GCP 서비스(Vertex AI, GCS 등)와 상호작용할 수 있도록 Google이 제공하는 공식 라이브러리입니다.  \n",
    "- 복잡한 HTTP 요청을 직접 작성할 필요 없이,  \n",
    "  `endpoint.predict()` 같은 간단한 함수 호출로 Vertex AI API를 사용할 수 있습니다.\n",
    "\n",
    "---\n",
    "\n",
    "#### 2️⃣ API 요청 페이로드 (Request Payload) - 수정된 부분\n",
    "- Vertex AI Endpoint는 예측 요청 시, 내부적으로 **JSON 형식의 `{\"instances\": [...]}`** 구조를 사용합니다.  \n",
    "- 하지만 **Python SDK(`aiplatform.Endpoint.predict`)를 사용할 경우**,  \n",
    "  사용자가 직접 JSON을 작성할 필요는 없습니다.  \n",
    "  단순히 **리스트 형태의 데이터를 `instances` 인자로 전달**하면,  \n",
    "  SDK가 자동으로 `{\"instances\": [...]}` 구조로 변환해 API 요청을 전송합니다.\n",
    "\n",
    "✅ **예시**\n",
    "\n",
    "```python\n",
    "# 사용자는 단순히 Python 리스트만 넘기면 됨\n",
    "instances = [[5000.0, 2000.0, 150.0, 360.0, 1.0, 1.0, 1.0, 1.0, 0.0, 0.0, 0.0, 0.0, 1.0]]\n",
    "prediction = endpoint.predict(instances=instances)\n",
    "```\n",
    "\n",
    "↳ SDK 내부적으로는 다음과 같은 JSON 요청을 자동으로 생성합니다:\n",
    "```json\n",
    "{\n",
    "  \"instances\": [\n",
    "    [5000.0, 2000.0, 150.0, 360.0, 1.0, 1.0, 1.0, 1.0, 0.0, 0.0, 0.0, 0.0, 1.0]\n",
    "  ]\n",
    "}\n",
    "```\n",
    "\n",
    "---\n",
    "\n",
    "#### 3️⃣ 데이터 일관성 (Data Consistency) — (⭐ 매우 중요 ⭐)\n",
    "- API로 전송하는 데이터는 **모델 학습 시 사용된 입력 데이터와 동일한 구조와 순서**를 가져야 합니다.  \n",
    "- 즉, **피처 순서(`MODEL_FEATURES`)**, **인코딩 방식**, **데이터 타입(float 변환 등)** 이 100% 일치해야 합니다.  \n",
    "- 이를 보장하기 위해 학습 시 함께 저장했던 **`model_features.pkl`** 파일을 다시 불러와 컬럼 순서를 맞춥니다.\n",
    "\n",
    "\n",
    "### 🚨 (필수) 비용 관리: 실습 후 엔드포인트 정리\n",
    "-   본 세션이 끝나면, **비용이 계속 청구되는 엔드포인트를 즉시 '배포 취소'해야 합니다.**\n",
    "-   이 노트북의 **마지막 단계**에 배포 취소 가이드가 포함되어 있습니다."
   ]
  },
  {
   "cell_type": "code",
   "execution_count": 25,
   "id": "568c0578-9cdf-42d4-9ffa-8cf984c7dfb2",
   "metadata": {},
   "outputs": [
    {
     "name": "stdout",
     "output_type": "stream",
     "text": [
      "hello world\n"
     ]
    }
   ],
   "source": [
    "print(\"hello world\")"
   ]
  },
  {
   "cell_type": "code",
   "execution_count": 27,
   "id": "5f8aefac-760f-4bcc-879d-76caa20ca276",
   "metadata": {},
   "outputs": [
    {
     "name": "stdout",
     "output_type": "stream",
     "text": [
      "▶ GCS에서 14개의 피처 목록을 성공적으로 로드했습니다.\n",
      "▶ 엔드포인트(ID: 670264487315505152)에 성공적으로 연결되었습니다.\n"
     ]
    }
   ],
   "source": [
    "# ==============================================================================\n",
    "# [실습 1] API 호출을 위한 환경 설정\n",
    "# ==============================================================================\n",
    "import pandas as pd\n",
    "import joblib, pickle \n",
    "from google.cloud import aiplatform  # Vertex AI SDK\n",
    "from google.cloud import storage      # GCS SDK (피처 목록 로드용)\n",
    "\n",
    "# --- (1/4) GCP 환경 변수 설정 ---\n",
    "# ※※※※※※※※※※※※※※※※※※※※※※※※※※※※※※※※※※※※※※※※※※※※※※※※※※\n",
    "# ※ 수강생 각자의 GCP 프로젝트 ID로 이 부분을 수정해야 합니다! ※\n",
    "# ※ GCP 콘솔 상단에서 프로젝트 ID를 복사해오세요.            ※\n",
    "# ※※※※※※※※※※※※※※※※※※※※※※※※※※※※※※※※※※※※※※※※※※※※※※※※※※\n",
    "#PROJECT_ID = \"여러분의-GCP-PROJECT-ID\"  # 예: \"gcp-project-12345\"\n",
    "PROJECT_ID = \"sigma-nimbus-475403-v9\"\n",
    "REGION = \"asia-northeast3\"             # 배포 리전\n",
    "\n",
    "# --- (2/4) GCS 클라이언트 초기화 ---\n",
    "# (Session 4에서 업로드한 'model_features.pkl'을 다운로드하기 위함)\n",
    "gcs_client = storage.Client(project=PROJECT_ID)\n",
    "\n",
    "# ※※※※※※※※※※※※※※※※※※※※※※※※※※※※※※※※※※※※※※※※※※※※※※※※※※\n",
    "# ※ Session 4에서 사용한 버킷 이름과 피처 파일 경로를 정확히 입력합니다.\n",
    "# ※※※※※※※※※※※※※※※※※※※※※※※※※※※※※※※※※※※※※※※※※※※※※※※※※※\n",
    "#BUCKET_NAME = \"여러분의-GCS-버킷-이름\" # 예: \"gcp-project-12345-loan-data\"\n",
    "BUCKET_NAME = \"my_instance-ysh2-banking-data\"\n",
    "FEATURES_GCS_PATH = \"new_feat_2/model_features.pkl\"\n",
    "\n",
    "# GCS에서 피처 목록 파일 로드\n",
    "bucket = gcs_client.bucket(BUCKET_NAME)\n",
    "blob = bucket.blob(FEATURES_GCS_PATH)\n",
    "blob.download_to_filename(\"model_features.pkl\") # Workbench 로컬에 임시 다운로드\n",
    "\n",
    "with open(\"model_features.pkl\", \"rb\") as f :\n",
    "    MODEL_FEATURES = pickle.load(f)\n",
    "print(f\"▶ GCS에서 {len(MODEL_FEATURES)}개의 피처 목록을 성공적으로 로드했습니다.\")\n",
    "# print(MODEL_FEATURES) # (확인용)\n",
    "\n",
    "# --- (3/4) Vertex AI SDK 초기화 ---\n",
    "aiplatform.init(project=PROJECT_ID, location=REGION)\n",
    "\n",
    "# --- (4/4) 엔드포인트 객체 가져오기 ---\n",
    "# ※※※※※※※※※※※※※※※※※※※※※※※※※※※※※※※※※※※※※※※※※※※※※※※※※※\n",
    "# ※ GCP 콘솔 'Vertex AI > 엔드포인트' 메뉴에서 \n",
    "# ※ '엔드포인트 ID' (긴 숫자)를 복사하여 붙여넣어야 합니다.\n",
    "# ※※※※※※※※※※※※※※※※※※※※※※※※※※※※※※※※※※※※※※※※※※※※※※※※※※\n",
    "#ENDPOINT_ID = \"여러분의-엔드포인트-ID\" # 예: \"1234567890123456789\"\n",
    "ENDPOINT_ID = \"670264487315505152\"\n",
    "\n",
    "endpoint = aiplatform.Endpoint(endpoint_name=ENDPOINT_ID)\n",
    "print(f\"▶ 엔드포인트(ID: {ENDPOINT_ID})에 성공적으로 연결되었습니다.\")"
   ]
  },
  {
   "cell_type": "code",
   "execution_count": null,
   "id": "81017493-5fb2-4823-941d-9786e821f3a3",
   "metadata": {},
   "outputs": [],
   "source": []
  },
  {
   "cell_type": "code",
   "execution_count": 92,
   "id": "fe8f9e3b-e1cf-42bf-a098-beddc5329c18",
   "metadata": {
    "tags": []
   },
   "outputs": [
    {
     "name": "stdout",
     "output_type": "stream",
     "text": [
      " [1. 원본 요청 데이터 (Raw Data)]\n"
     ]
    },
    {
     "data": {
      "text/html": [
       "<div>\n",
       "<style scoped>\n",
       "    .dataframe tbody tr th:only-of-type {\n",
       "        vertical-align: middle;\n",
       "    }\n",
       "\n",
       "    .dataframe tbody tr th {\n",
       "        vertical-align: top;\n",
       "    }\n",
       "\n",
       "    .dataframe thead th {\n",
       "        text-align: right;\n",
       "    }\n",
       "</style>\n",
       "<table border=\"1\" class=\"dataframe\">\n",
       "  <thead>\n",
       "    <tr style=\"text-align: right;\">\n",
       "      <th></th>\n",
       "      <th>Gender</th>\n",
       "      <th>Married</th>\n",
       "      <th>Dependents</th>\n",
       "      <th>Education</th>\n",
       "      <th>Self_Employed</th>\n",
       "      <th>ApplicantIncome</th>\n",
       "      <th>CoapplicantIncome</th>\n",
       "      <th>LoanAmount</th>\n",
       "      <th>Loan_Amount_Term</th>\n",
       "      <th>Credit_History</th>\n",
       "      <th>Property_Area</th>\n",
       "    </tr>\n",
       "  </thead>\n",
       "  <tbody>\n",
       "    <tr>\n",
       "      <th>0</th>\n",
       "      <td>Male</td>\n",
       "      <td>Yes</td>\n",
       "      <td>1</td>\n",
       "      <td>Graduate</td>\n",
       "      <td>No</td>\n",
       "      <td>5000</td>\n",
       "      <td>2000</td>\n",
       "      <td>150</td>\n",
       "      <td>360.0</td>\n",
       "      <td>1.0</td>\n",
       "      <td>Urban</td>\n",
       "    </tr>\n",
       "  </tbody>\n",
       "</table>\n",
       "</div>"
      ],
      "text/plain": [
       "  Gender Married Dependents Education Self_Employed  ApplicantIncome  \\\n",
       "0   Male     Yes          1  Graduate            No             5000   \n",
       "\n",
       "   CoapplicantIncome  LoanAmount  Loan_Amount_Term  Credit_History  \\\n",
       "0               2000         150             360.0             1.0   \n",
       "\n",
       "  Property_Area  \n",
       "0         Urban  "
      ]
     },
     "execution_count": 92,
     "metadata": {},
     "output_type": "execute_result"
    }
   ],
   "source": [
    "# ==============================================================================\n",
    "# [실습 2] 예측 요청 전송 및 결과 확인\n",
    "# ==============================================================================\n",
    "\n",
    "# 1. 가상의 대출 신청자 데이터 (Raw Data)\n",
    "#    (Session 3의 시뮬레이션 데이터와 동일)\n",
    "sample_data = {\n",
    "    'Gender': 'Male', 'Married': 'Yes', 'Dependents': '1', 'Education': 'Graduate',\n",
    "    'Self_Employed': 'No', 'ApplicantIncome': 5000, 'CoapplicantIncome': 2000,\n",
    "    'LoanAmount': 150, 'Loan_Amount_Term': 360.0, 'Credit_History': 1.0,\n",
    "    'Property_Area': 'Urban'\n",
    "}\n",
    "sample_df = pd.DataFrame([sample_data])\n",
    "print(\" [1. 원본 요청 데이터 (Raw Data)]\")\n",
    "sample_df.head()\n"
   ]
  },
  {
   "cell_type": "code",
   "execution_count": 91,
   "id": "24ebbb7d-1c11-4cdd-ad40-2d0d69cd889e",
   "metadata": {
    "tags": []
   },
   "outputs": [
    {
     "name": "stdout",
     "output_type": "stream",
     "text": [
      "\n",
      " [2. 학습때와 동일한 데이터 전처리]\n"
     ]
    },
    {
     "data": {
      "text/html": [
       "<div>\n",
       "<style scoped>\n",
       "    .dataframe tbody tr th:only-of-type {\n",
       "        vertical-align: middle;\n",
       "    }\n",
       "\n",
       "    .dataframe tbody tr th {\n",
       "        vertical-align: top;\n",
       "    }\n",
       "\n",
       "    .dataframe thead th {\n",
       "        text-align: right;\n",
       "    }\n",
       "</style>\n",
       "<table border=\"1\" class=\"dataframe\">\n",
       "  <thead>\n",
       "    <tr style=\"text-align: right;\">\n",
       "      <th></th>\n",
       "      <th>ApplicantIncome</th>\n",
       "      <th>CoapplicantIncome</th>\n",
       "      <th>LoanAmount</th>\n",
       "      <th>Loan_Amount_Term</th>\n",
       "      <th>Credit_History</th>\n",
       "      <th>Gender_Male</th>\n",
       "      <th>Married_Yes</th>\n",
       "      <th>Dependents_1</th>\n",
       "      <th>Dependents_2</th>\n",
       "      <th>Dependents_3+</th>\n",
       "      <th>Education_Not Graduate</th>\n",
       "      <th>Self_Employed_Yes</th>\n",
       "      <th>Property_Area_Semiurban</th>\n",
       "      <th>Property_Area_Urban</th>\n",
       "    </tr>\n",
       "  </thead>\n",
       "  <tbody>\n",
       "    <tr>\n",
       "      <th>0</th>\n",
       "      <td>5000</td>\n",
       "      <td>2000</td>\n",
       "      <td>150</td>\n",
       "      <td>360.0</td>\n",
       "      <td>1.0</td>\n",
       "      <td>True</td>\n",
       "      <td>True</td>\n",
       "      <td>True</td>\n",
       "      <td>0</td>\n",
       "      <td>0</td>\n",
       "      <td>0</td>\n",
       "      <td>0</td>\n",
       "      <td>0</td>\n",
       "      <td>True</td>\n",
       "    </tr>\n",
       "  </tbody>\n",
       "</table>\n",
       "</div>"
      ],
      "text/plain": [
       "   ApplicantIncome  CoapplicantIncome  LoanAmount  Loan_Amount_Term  \\\n",
       "0             5000               2000         150             360.0   \n",
       "\n",
       "   Credit_History  Gender_Male  Married_Yes  Dependents_1  Dependents_2  \\\n",
       "0             1.0         True         True          True             0   \n",
       "\n",
       "   Dependents_3+  Education_Not Graduate  Self_Employed_Yes  \\\n",
       "0              0                       0                  0   \n",
       "\n",
       "   Property_Area_Semiurban  Property_Area_Urban  \n",
       "0                        0                 True  "
      ]
     },
     "execution_count": 91,
     "metadata": {},
     "output_type": "execute_result"
    }
   ],
   "source": [
    "# -------------------------\n",
    "# 2) 학습 시와 동일한 전처리 파이프라인 적용\n",
    "#    - 여기서는 예시로 get_dummies + reindex만 표기\n",
    "#    - 실제로는 학습 시 쓰던 전처리(스케일링, 인코딩 등)를 그대로 재현해야 함\n",
    "# -------------------------\n",
    "\n",
    "print(\"\\n [2. 학습때와 동일한 데이터 전처리]\")\n",
    "sample_df_processed = pd.get_dummies(sample_df)\n",
    "final_sample_df = sample_df_processed.reindex(columns=MODEL_FEATURES, fill_value=0) \n",
    "final_sample_df.head()"
   ]
  },
  {
   "cell_type": "code",
   "execution_count": 100,
   "id": "acabe794-3c20-4755-a0cf-a8e9476d3dce",
   "metadata": {
    "tags": []
   },
   "outputs": [
    {
     "data": {
      "text/html": [
       "<div>\n",
       "<style scoped>\n",
       "    .dataframe tbody tr th:only-of-type {\n",
       "        vertical-align: middle;\n",
       "    }\n",
       "\n",
       "    .dataframe tbody tr th {\n",
       "        vertical-align: top;\n",
       "    }\n",
       "\n",
       "    .dataframe thead th {\n",
       "        text-align: right;\n",
       "    }\n",
       "</style>\n",
       "<table border=\"1\" class=\"dataframe\">\n",
       "  <thead>\n",
       "    <tr style=\"text-align: right;\">\n",
       "      <th></th>\n",
       "      <th>ApplicantIncome</th>\n",
       "      <th>CoapplicantIncome</th>\n",
       "      <th>LoanAmount</th>\n",
       "      <th>Loan_Amount_Term</th>\n",
       "      <th>Credit_History</th>\n",
       "      <th>Gender_Male</th>\n",
       "      <th>Married_Yes</th>\n",
       "      <th>Dependents_1</th>\n",
       "      <th>Dependents_2</th>\n",
       "      <th>Dependents_3+</th>\n",
       "      <th>Education_Not Graduate</th>\n",
       "      <th>Self_Employed_Yes</th>\n",
       "      <th>Property_Area_Semiurban</th>\n",
       "      <th>Property_Area_Urban</th>\n",
       "    </tr>\n",
       "  </thead>\n",
       "  <tbody>\n",
       "    <tr>\n",
       "      <th>0</th>\n",
       "      <td>5000.0</td>\n",
       "      <td>2000.0</td>\n",
       "      <td>150.0</td>\n",
       "      <td>360.0</td>\n",
       "      <td>1.0</td>\n",
       "      <td>1.0</td>\n",
       "      <td>1.0</td>\n",
       "      <td>1.0</td>\n",
       "      <td>0.0</td>\n",
       "      <td>0.0</td>\n",
       "      <td>0.0</td>\n",
       "      <td>0.0</td>\n",
       "      <td>0.0</td>\n",
       "      <td>1.0</td>\n",
       "    </tr>\n",
       "  </tbody>\n",
       "</table>\n",
       "</div>"
      ],
      "text/plain": [
       "   ApplicantIncome  CoapplicantIncome  LoanAmount  Loan_Amount_Term  \\\n",
       "0           5000.0             2000.0       150.0             360.0   \n",
       "\n",
       "   Credit_History  Gender_Male  Married_Yes  Dependents_1  Dependents_2  \\\n",
       "0             1.0          1.0          1.0           1.0           0.0   \n",
       "\n",
       "   Dependents_3+  Education_Not Graduate  Self_Employed_Yes  \\\n",
       "0            0.0                     0.0                0.0   \n",
       "\n",
       "   Property_Area_Semiurban  Property_Area_Urban  \n",
       "0                      0.0                  1.0  "
      ]
     },
     "execution_count": 100,
     "metadata": {},
     "output_type": "execute_result"
    }
   ],
   "source": [
    "# -------------------------\n",
    "# 3) 타입 정규화 (bool/np.bool_ 포함 모든 값을 float로) \n",
    "# 수정된 부분\n",
    "# -------------------------\n",
    "\n",
    "final_sample_df = final_sample_df.astype(float)\n",
    "final_sample_df.head()"
   ]
  },
  {
   "cell_type": "code",
   "execution_count": 102,
   "id": "65efe2dd-aa11-4eb2-bdca-b42c52ff8097",
   "metadata": {
    "tags": []
   },
   "outputs": [],
   "source": [
    "# -------------------------\n",
    "# 4) 리스트-오브-리스트 인스턴스 구성 (피처 순서 준수) -- 중요 -- \n",
    "# -------------------------\n",
    "row = final_sample_df.iloc[0] \n",
    "instances = [row[MODEL_FEATURES].tolist()]  # [[x1, x2, ...]]"
   ]
  },
  {
   "cell_type": "code",
   "execution_count": 103,
   "id": "56a39bbe-c59a-412d-a486-a98fe60b6996",
   "metadata": {
    "tags": []
   },
   "outputs": [
    {
     "name": "stdout",
     "output_type": "stream",
     "text": [
      "[[5000.0, 2000.0, 150.0, 360.0, 1.0, 1.0, 1.0, 1.0, 0.0, 0.0, 0.0, 0.0, 0.0, 1.0]]\n"
     ]
    }
   ],
   "source": [
    "print(instances)"
   ]
  },
  {
   "cell_type": "code",
   "execution_count": null,
   "id": "748d675e-bb1d-40fb-8af0-32812324ff50",
   "metadata": {},
   "outputs": [],
   "source": []
  },
  {
   "cell_type": "code",
   "execution_count": 104,
   "id": "d2c963ba-df17-4d05-ae4c-4bf914d0d41c",
   "metadata": {
    "tags": []
   },
   "outputs": [],
   "source": [
    "# API 호출을 통한 예측 결과 확인\n",
    "prediction_result = endpoint.predict(instances=instances)\n"
   ]
  },
  {
   "cell_type": "code",
   "execution_count": 105,
   "id": "13359e72-f7d7-4865-884a-3c98ff389773",
   "metadata": {
    "tags": []
   },
   "outputs": [
    {
     "data": {
      "text/plain": [
       "Prediction(predictions=[1.0], deployed_model_id='39778131669680128', metadata=None, model_version_id='1', model_resource_name='projects/672193963995/locations/asia-northeast3/models/2311907915352506368', explanations=None)"
      ]
     },
     "execution_count": 105,
     "metadata": {},
     "output_type": "execute_result"
    }
   ],
   "source": [
    "prediction_result"
   ]
  },
  {
   "cell_type": "code",
   "execution_count": 106,
   "id": "d2b789df-9a73-46a0-8764-4fad086e1fde",
   "metadata": {
    "tags": []
   },
   "outputs": [
    {
     "name": "stdout",
     "output_type": "stream",
     "text": [
      "\n",
      " [5. 최종 예측 결과 해석]\n",
      "  ▶▶ 예측 결과: '승인 (Approved - Y)'\n",
      "\n",
      "==============================================================================\n",
      "▶▶▶ 1차시 프로젝트 API 구축 및 테스트가 성공적으로 완료되었습니다! ◀◀◀\n",
      "==============================================================================\n"
     ]
    }
   ],
   "source": [
    "print(\"\\n [5. 최종 예측 결과 해석]\")\n",
    "# 응답 형식: prediction_result.predictions[0]\n",
    "final_prediction = prediction_result.predictions[0]\n",
    "\n",
    "if final_prediction == 1:\n",
    "    print(f\"  ▶▶ 예측 결과: '승인 (Approved - Y)'\")\n",
    "else:\n",
    "    print(f\"  ▶▶ 예측 결과: '거절 (Refused - N)'\")\n",
    "\n",
    "print(\"\\n==============================================================================\")\n",
    "print(\"▶▶▶ 1차시 프로젝트 API 구축 및 테스트가 성공적으로 완료되었습니다! ◀◀◀\")\n",
    "print(\"==============================================================================\")"
   ]
  },
  {
   "cell_type": "code",
   "execution_count": null,
   "id": "6f9f03ab-9fd9-49f3-9c84-bcf2d060b6f5",
   "metadata": {},
   "outputs": [],
   "source": []
  },
  {
   "cell_type": "code",
   "execution_count": null,
   "id": "50368bc9-fec0-4988-b091-2795318a42d6",
   "metadata": {},
   "outputs": [],
   "source": []
  },
  {
   "cell_type": "markdown",
   "id": "6f1316e8-07c1-4bae-9b7b-f5e802cdae27",
   "metadata": {},
   "source": [
    "# [실습 3] (필수!) 엔드포인트 배포 취소 (비용 중단)\n",
    "\n",
    "축하합니다! 여러분은 1차시의 모든 과정을 완료하고, 클라우드에 배포된 AI API를 호출하는 데 성공했습니다.\n",
    "\n",
    "이제 **불필요한 비용이 계속 발생하는 것을 막기 위해** 배포된 엔드포인트 서비스를 즉시 중지(배포 취소)해야 합니다.\n",
    "\n",
    "---\n",
    "\n",
    "### ■ 배포 취소 절차 (GCP Console UI - 권장)\n",
    "\n",
    "1.  GCP 콘솔에서 **'Vertex AI' > '엔드포인트(Endpoints)'** 메뉴로 이동합니다.\n",
    "2.  우리가 생성한 **`loan-approval-service`** 엔드포인트의 이름(링크)을 클릭합니다.\n",
    "3.  상세 정보 페이지 상단에서 **`배포된 모델 배포 취소`** (휴지통 아이콘 🗑️) 버튼을 클릭합니다.\n",
    "4.  팝업창에서 배포 취소할 모델을 확인하고 `배포 취소` 버튼을 클릭합니다.\n",
    "5.  **(확인)** 잠시 후, '배포된 모델' 섹션이 비어있게 되면 비용 청구가 중지된 것입니다. (엔드포인트 자체는 목록에 남아있어도 괜찮습니다.)\n",
    "\n",
    "### ■ (선택) 엔드포인트 완전 삭제\n",
    "\n",
    "-   배포 취소 후, 엔드포인트 목록에서 `loan-approval-service`를 체크하고 상단의 `삭제` 버튼을 누르면 목록에서도 완전히 사라집니다.\n",
    "\n",
    "---\n",
    "### ■ Session 6 및 1차시 교육 완료\n",
    "수고하셨습니다. 이제 2차시 교육에서 이 API를 '전문가 Tool'로 활용할 준비가 모두 끝났습니다."
   ]
  },
  {
   "cell_type": "code",
   "execution_count": null,
   "id": "9cf60f44-0987-49f5-bef5-fd327351711e",
   "metadata": {},
   "outputs": [],
   "source": []
  }
 ],
 "metadata": {
  "environment": {
   "kernel": "conda-base-py",
   "name": "workbench-notebooks.m134",
   "type": "gcloud",
   "uri": "us-docker.pkg.dev/deeplearning-platform-release/gcr.io/workbench-notebooks:m134"
  },
  "kernelspec": {
   "display_name": "Python 3 (ipykernel) (Local)",
   "language": "python",
   "name": "conda-base-py"
  },
  "language_info": {
   "codemirror_mode": {
    "name": "ipython",
    "version": 3
   },
   "file_extension": ".py",
   "mimetype": "text/x-python",
   "name": "python",
   "nbconvert_exporter": "python",
   "pygments_lexer": "ipython3",
   "version": "3.10.18"
  }
 },
 "nbformat": 4,
 "nbformat_minor": 5
}
